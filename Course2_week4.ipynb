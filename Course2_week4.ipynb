{
 "cells": [
  {
   "cell_type": "markdown",
   "id": "a28c901b-6fc3-47c5-83aa-785250f3ada9",
   "metadata": {},
   "source": [
    "# My Jupyter Notebook on IBM Watson Studio"
   ]
  },
  {
   "cell_type": "markdown",
   "id": "50d2f63b-e19c-4512-8077-106b3ead9e1f",
   "metadata": {},
   "source": [
    "## **Mukul Dembla**\n",
    "## **Student**"
   ]
  },
  {
   "cell_type": "markdown",
   "id": "4b65f59a-be12-4176-a6af-e76aedc4ff70",
   "metadata": {},
   "source": [
    "*I am interested in data science because i love to play with data and analyzing them*"
   ]
  },
  {
   "cell_type": "markdown",
   "id": "b4b7a3a9-3c75-4b83-845d-51942208578e",
   "metadata": {},
   "source": [
    "### Printing a string"
   ]
  },
  {
   "cell_type": "code",
   "execution_count": 1,
   "id": "0aca0dc3-4da5-4bdd-a009-088ee5013a33",
   "metadata": {},
   "outputs": [
    {
     "name": "stdout",
     "output_type": "stream",
     "text": [
      "hello world\n"
     ]
    }
   ],
   "source": [
    "print('hello world')"
   ]
  },
  {
   "cell_type": "markdown",
   "id": "215f4547-58f5-4ff8-8b4e-6d51eba0df46",
   "metadata": {},
   "source": [
    "[link with title](https://www.coursera.org/?skipBrowseRedirect=true \"Coursera\")"
   ]
  },
  {
   "cell_type": "markdown",
   "id": "f149b202-f3b6-41c9-a604-373af975264e",
   "metadata": {},
   "source": [
    "```python\n",
    "s = \"Syntax highlighting\"\n",
    "print s\n",
    "```\n"
   ]
  },
  {
   "cell_type": "markdown",
   "id": "f5a26397-2aab-438d-a143-ed1852fa039c",
   "metadata": {},
   "source": [
    "Sno. | Topic | Page\n",
    "--- | --- | ---\n",
    "4 | Tools for data science | 50"
   ]
  }
 ],
 "metadata": {
  "kernelspec": {
   "display_name": "Python",
   "language": "python",
   "name": "conda-env-python-py"
  },
  "language_info": {
   "codemirror_mode": {
    "name": "ipython",
    "version": 3
   },
   "file_extension": ".py",
   "mimetype": "text/x-python",
   "name": "python",
   "nbconvert_exporter": "python",
   "pygments_lexer": "ipython3",
   "version": "3.7.12"
  }
 },
 "nbformat": 4,
 "nbformat_minor": 5
}
